{
 "cells": [
  {
   "cell_type": "code",
   "execution_count": 1,
   "id": "20b16814",
   "metadata": {},
   "outputs": [
    {
     "name": "stdout",
     "output_type": "stream",
     "text": [
      "Hey Ahmad ! The time is 2024-11-30 12:42:37.002763\n"
     ]
    }
   ],
   "source": [
    "# Create a function named greet_with_time that takes a name as input and prints a greeting message along with the current time.\n",
    "\n",
    "import datetime\n",
    "\n",
    "def greet_with_time(name) :\n",
    "    current_time= datetime.datetime.now()\n",
    "    print (f'Hey { name } ! The time is {current_time}')\n",
    "\n",
    "\n",
    "greet_with_time ('Ahmad')"
   ]
  },
  {
   "cell_type": "code",
   "execution_count": 2,
   "id": "d3aef583",
   "metadata": {},
   "outputs": [
    {
     "data": {
      "text/plain": [
       "180.0"
      ]
     },
     "execution_count": 2,
     "metadata": {},
     "output_type": "execute_result"
    }
   ],
   "source": [
    "# Write a function called calculate_average that takes three numbers as input and returns their average.\n",
    "\n",
    "def calculate_average(n1, n2, n3):\n",
    "    average = (n1 + n2 + n3) / 3\n",
    "    return average\n",
    "calculate_average(40, 400, 100)"
   ]
  },
  {
   "cell_type": "code",
   "execution_count": 3,
   "id": "56279d1e",
   "metadata": {},
   "outputs": [
    {
     "data": {
      "text/plain": [
       "45.0"
      ]
     },
     "execution_count": 3,
     "metadata": {},
     "output_type": "execute_result"
    }
   ],
   "source": [
    "# Define a function calculate_discount that takes a price and a discount percentage as input. Set a default discount percentage of 10%.\n",
    "\n",
    "def calculate_discount(price, discount_percentage=10): \n",
    "    discounted_price = price - (price * discount_percentage / 100) \n",
    "    return discounted_price\n",
    "calculate_discount(50)"
   ]
  },
  {
   "cell_type": "code",
   "execution_count": 4,
   "id": "08802cbd",
   "metadata": {},
   "outputs": [
    {
     "name": "stdout",
     "output_type": "stream",
     "text": [
      "Name: Ahmad\n",
      "Age: 19\n",
      "City: Lahore\n"
     ]
    }
   ],
   "source": [
    "# Create a function print_info that takes a name, age, and city as keyword arguments.\n",
    "\n",
    "def print_info(name, age, city): \n",
    "    print(f\"Name: {name}\") \n",
    "    print(f\"Age: {age}\") \n",
    "    print(f\"City: {city}\")\n",
    "    \n",
    "print_info(name = 'Ahmad', age = 19, city= 'Lahore')"
   ]
  },
  {
   "cell_type": "code",
   "execution_count": 5,
   "id": "049b0f0a",
   "metadata": {},
   "outputs": [
    {
     "name": "stdout",
     "output_type": "stream",
     "text": [
      "198 is greater.\n"
     ]
    }
   ],
   "source": [
    "# Write a function find_max that can take any number of arguments and returns the maximum value.\n",
    "\n",
    "def find_max(a,b,c):\n",
    "    if a>b and a>c:\n",
    "        print(f'{a} is greater.')\n",
    "    if b>c and b>a:\n",
    "        print(f'{b} is greater.')\n",
    "    if c>a and c>b:\n",
    "        print(f'{c} is greater. ')\n",
    "\n",
    "find_max(a=99,b=198,c=97)"
   ]
  },
  {
   "cell_type": "code",
   "execution_count": 2,
   "id": "ce6c1d6e",
   "metadata": {},
   "outputs": [
    {
     "data": {
      "text/plain": [
       "120"
      ]
     },
     "execution_count": 2,
     "metadata": {},
     "output_type": "execute_result"
    }
   ],
   "source": [
    "# Implement a recursive function to calculate the factorial of a number.\n",
    "\n",
    "def factorial(n):\n",
    "    if n >= 1:\n",
    "        return n * factorial(n - 1)\n",
    "    else:\n",
    "        return 1\n",
    "\n",
    "factorial(5)"
   ]
  },
  {
   "cell_type": "code",
   "execution_count": 11,
   "id": "c411c1ab",
   "metadata": {},
   "outputs": [
    {
     "data": {
      "text/plain": [
       "[1, 4, 9, 16, 25]"
      ]
     },
     "execution_count": 11,
     "metadata": {},
     "output_type": "execute_result"
    }
   ],
   "source": [
    "# Define a function apply_function that takes a function and a list of numbers as input. Apply the function to each number in the list and return a new list with the results.\n",
    "\n",
    "def apply_function(func, numbers):\n",
    "    return [func(num) for num in numbers]\n",
    "\n",
    "def square(x):\n",
    "    return x * x\n",
    "\n",
    "numbers = [1, 2, 3, 4, 5]\n",
    "apply_function(square, numbers)"
   ]
  },
  {
   "cell_type": "code",
   "execution_count": 8,
   "id": "929ca3d6",
   "metadata": {},
   "outputs": [
    {
     "data": {
      "text/plain": [
       "25"
      ]
     },
     "execution_count": 8,
     "metadata": {},
     "output_type": "execute_result"
    }
   ],
   "source": [
    "# Create a lambda function to square a number.\n",
    "\n",
    "square = lambda x: x * x\n",
    "\n",
    "square(5)"
   ]
  },
  {
   "cell_type": "code",
   "execution_count": 3,
   "id": "19f2a88e",
   "metadata": {},
   "outputs": [],
   "source": [
    "# Write a function apply_operation that takes a function and a list of numbers. Apply the function to each number and return a new list.\n",
    "\n"
   ]
  },
  {
   "cell_type": "code",
   "execution_count": 4,
   "id": "acf2229a",
   "metadata": {},
   "outputs": [],
   "source": [
    "# Implement a decorator to measure the execution time of a function.\n",
    "\n"
   ]
  },
  {
   "cell_type": "code",
   "execution_count": null,
   "id": "07d5eb69",
   "metadata": {},
   "outputs": [],
   "source": []
  }
 ],
 "metadata": {
  "kernelspec": {
   "display_name": "Python 3 (ipykernel)",
   "language": "python",
   "name": "python3"
  },
  "language_info": {
   "codemirror_mode": {
    "name": "ipython",
    "version": 3
   },
   "file_extension": ".py",
   "mimetype": "text/x-python",
   "name": "python",
   "nbconvert_exporter": "python",
   "pygments_lexer": "ipython3",
   "version": "3.9.12"
  }
 },
 "nbformat": 4,
 "nbformat_minor": 5
}
